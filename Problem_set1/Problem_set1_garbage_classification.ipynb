{
 "cells": [
  {
   "cell_type": "markdown",
   "metadata": {},
   "source": [
    "# Garbage Classification - Part D"
   ]
  },
  {
   "cell_type": "code",
   "execution_count": null,
   "metadata": {},
   "outputs": [],
   "source": [
    "import os\n",
    "import numpy as np\n",
    "from PIL import Image\n",
    "import matplotlib.pyplot as plt\n",
    "from tensorflow import keras"
   ]
  },
  {
   "cell_type": "markdown",
   "metadata": {},
   "source": [
    "## 0. preprocessing"
   ]
  },
  {
   "cell_type": "code",
   "execution_count": null,
   "metadata": {},
   "outputs": [],
   "source": [
    "path = \"./Garbage classification/\"\n",
    "listTruelabels = [\"cardboard\",\"glass\",\"metal\",\"paper\",\"plastic\",\"trash\"]\n",
    "\n",
    "# make tuple list [(filename.jpg, 0~6: index of listTruelabels)]\n",
    "dataset = []\n",
    "num_file = 100\n",
    "for idx, truelabel in enumerate(listTruelabels):\n",
    "    \n",
    "    listFilenames = [file_ for path_, dir_, file_ in os.walk(path+truelabel)][0][:num_file]\n",
    "    listTrue = [int(idx) for i in range(num_file)]\n",
    "    listBinary = list(zip(listFilenames, listTrue))\n",
    "    dataset += listBinary"
   ]
  },
  {
   "cell_type": "code",
   "execution_count": null,
   "metadata": {},
   "outputs": [],
   "source": [
    "# Shuffle data\n",
    "np.random.seed(42)\n",
    "\n",
    "npDataset = np.array(dataset) # shape : [600,2]\n",
    "print(npDataset.shape)\n",
    "\n",
    "np.random.shuffle(npDataset)\n",
    "print(npDataset)"
   ]
  },
  {
   "cell_type": "code",
   "execution_count": null,
   "metadata": {},
   "outputs": [],
   "source": [
    "# split train and test dataset\n",
    "npTrain = npDataset[:480] \n",
    "npTest = npDataset[480:]\n",
    "print(npTrain.shape, npTest.shape)"
   ]
  },
  {
   "cell_type": "markdown",
   "metadata": {},
   "source": [
    "## 1. Train dataset"
   ]
  },
  {
   "cell_type": "code",
   "execution_count": null,
   "metadata": {},
   "outputs": [],
   "source": [
    "# jpg to array for train set\n",
    "for idx, i in enumerate(npTrain):\n",
    "    im = np.asarray(Image.open(path + listTruelabels[int(npTrain[idx][1])] +\"/\"+ npTrain[idx][0]).convert(\"L\")) # [384, 512, 3]\n",
    "    reshape_im = np.reshape(im,[1,-1])\n",
    "    if idx == 0:\n",
    "        x_train = reshape_im\n",
    "        y_train = [npTrain[idx,1]]   \n",
    "        continue\n",
    "    \n",
    "    x_train = np.concatenate((x_train, reshape_im), axis = 0) # [B, 384 * 512 * 3]\n",
    "    y_train = np.concatenate((y_train, [npTrain[idx, 1]]), axis = 0) # [B,]\n",
    "\n",
    "print(x_train.shape, y_train.shape)"
   ]
  },
  {
   "cell_type": "markdown",
   "metadata": {},
   "source": [
    "## 2. Test dataset"
   ]
  },
  {
   "cell_type": "code",
   "execution_count": null,
   "metadata": {},
   "outputs": [],
   "source": [
    "# jpg to array for test set\n",
    "for idx, i in enumerate(npTest):\n",
    "    im = np.asarray(Image.open(path + listTruelabels[int(npTest[idx][1])] +\"/\"+ npTest[idx][0]).convert(\"L\"))\n",
    "    reshape_im = np.reshape(im,[1,-1])\n",
    "    if idx == 0:\n",
    "        x_test = reshape_im\n",
    "        y_test = [npTest[idx,1]]   \n",
    "        continue\n",
    "    \n",
    "    x_test = np.concatenate((x_test, reshape_im), axis = 0) # [B, 384 * 512 * 3]\n",
    "    y_test = np.concatenate((y_test, [npTest[idx, 1]]), axis = 0) # [B,]\n",
    "\n",
    "print(x_test.shape, y_test.shape)"
   ]
  },
  {
   "cell_type": "markdown",
   "metadata": {},
   "source": [
    "## visualization"
   ]
  },
  {
   "cell_type": "code",
   "execution_count": null,
   "metadata": {},
   "outputs": [],
   "source": [
    "some_digit = x_train[1]\n",
    "\n",
    "some_digit_image = some_digit.reshape([384, 512])\n",
    "\n",
    "plt.imshow(some_digit_image)\n",
    "print(y_train[1], listTruelabels[int(y_train[1])])"
   ]
  },
  {
   "cell_type": "markdown",
   "metadata": {},
   "source": [
    "## SGD classifier"
   ]
  },
  {
   "cell_type": "code",
   "execution_count": null,
   "metadata": {},
   "outputs": [],
   "source": [
    "from sklearn.linear_model import SGDClassifier\n",
    "from sklearn.metrics import confusion_matrix\n",
    "sgd = SGDClassifier(random_state=42)\n",
    "sgd.fit(x_train, y_train)\n",
    "cm = confusion_matrix(sgd.predict(x_test), y_test)\n",
    "plt.matshow(cm, cmap=plt.cm.Blues)\n",
    "plt.show()"
   ]
  },
  {
   "cell_type": "code",
   "execution_count": null,
   "metadata": {},
   "outputs": [],
   "source": [
    "# Simple ANN\n",
    "model = keras.models.Sequential()\n",
    "model.add(keras.layers.Dense(1000, activation=\"sigmoid\"))\n",
    "model.add(keras.layers.Dense(6, activation=\"sigmoid\"))\n",
    "\n",
    "model.compile(loss=\"sparse_categorical_crossentropy\", optimizer=\"sgd\", metrics=[\"accuracy\"])\n",
    "\n",
    "history=model.fit(x_train, y_train.astype(float), epochs=10, batch_size=30, validation_data=(x_test,y_test.astype(float)))"
   ]
  },
  {
   "cell_type": "code",
   "execution_count": null,
   "metadata": {},
   "outputs": [],
   "source": [
    "from sklearn.metrics import confusion_matrix\n",
    "y_test_pred = model.predict_classes(x_test)\n",
    "conf_mx = confusion_matrix(y_test.astype(float), y_test_pred)\n",
    "plt.matshow(conf_mx, cmap=plt.cm.Blues)\n",
    "#plt.savefig(\"d.png\")\n",
    "plt.show()"
   ]
  }
 ],
 "metadata": {
  "kernelspec": {
   "display_name": "Python 3 (ipykernel)",
   "language": "python",
   "name": "python3"
  },
  "language_info": {
   "codemirror_mode": {
    "name": "ipython",
    "version": 3
   },
   "file_extension": ".py",
   "mimetype": "text/x-python",
   "name": "python",
   "nbconvert_exporter": "python",
   "pygments_lexer": "ipython3",
   "version": "3.7.13"
  }
 },
 "nbformat": 4,
 "nbformat_minor": 4
}
