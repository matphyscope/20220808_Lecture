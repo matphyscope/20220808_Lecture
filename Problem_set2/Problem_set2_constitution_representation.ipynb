{
 "cells": [
  {
   "cell_type": "markdown",
   "metadata": {
    "id": "SKVTM_XutIDh"
   },
   "source": [
    "# WC predict with MOF constitutues"
   ]
  },
  {
   "cell_type": "markdown",
   "metadata": {},
   "source": [
    "## Module Import"
   ]
  },
  {
   "cell_type": "code",
   "execution_count": null,
   "metadata": {
    "executionInfo": {
     "elapsed": 2014,
     "status": "ok",
     "timestamp": 1622267966046,
     "user": {
      "displayName": "이수빈",
      "photoUrl": "",
      "userId": "07916576844189341598"
     },
     "user_tz": -540
    },
    "id": "m_YnzgDvtIDi"
   },
   "outputs": [],
   "source": [
    "import os\n",
    "os.environ[\"CUDA_VISIBLE_DEVICES\"] =\"0\"\n",
    "import random\n",
    "\n",
    "import numpy as np\n",
    "import pandas as pd\n",
    "import matplotlib.pyplot as plt\n",
    "\n",
    "import tensorflow as tf\n",
    "import tensorflow.keras as keras"
   ]
  },
  {
   "cell_type": "markdown",
   "metadata": {
    "id": "B-_8KXWrtIDk"
   },
   "source": [
    "## Data Load"
   ]
  },
  {
   "cell_type": "code",
   "execution_count": null,
   "metadata": {
    "executionInfo": {
     "elapsed": 773,
     "status": "ok",
     "timestamp": 1622268012940,
     "user": {
      "displayName": "이수빈",
      "photoUrl": "",
      "userId": "07916576844189341598"
     },
     "user_tz": -540
    },
    "id": "8dNYkZCItIDl"
   },
   "outputs": [],
   "source": [
    "random.seed(2020)\n",
    "\n",
    "mof_names = []\n",
    "wc_values = []\n",
    "\n",
    "csv_path = \"MOF_wc_data.csv\"\n",
    "with open(csv_path, \"r\") as f:\n",
    "    lines = f.readlines()\n",
    "    random.shuffle(lines)\n",
    "    for line in lines:\n",
    "        mof_name, wc_value = line.split(\",\")\n",
    "\n",
    "        mof_names.append(mof_name)\n",
    "        wc_values.append(float(wc_value))"
   ]
  },
  {
   "cell_type": "code",
   "execution_count": null,
   "metadata": {
    "colab": {
     "base_uri": "https://localhost:8080/"
    },
    "executionInfo": {
     "elapsed": 454,
     "status": "ok",
     "timestamp": 1622268014907,
     "user": {
      "displayName": "이수빈",
      "photoUrl": "",
      "userId": "07916576844189341598"
     },
     "user_tz": -540
    },
    "id": "eykrW98rtIDl",
    "outputId": "62475bbb-e60a-468a-c0aa-422534589468"
   },
   "outputs": [],
   "source": [
    "print(mof_names[:10])"
   ]
  },
  {
   "cell_type": "code",
   "execution_count": null,
   "metadata": {
    "colab": {
     "base_uri": "https://localhost:8080/"
    },
    "executionInfo": {
     "elapsed": 298,
     "status": "ok",
     "timestamp": 1622268017261,
     "user": {
      "displayName": "이수빈",
      "photoUrl": "",
      "userId": "07916576844189341598"
     },
     "user_tz": -540
    },
    "id": "e7sSFp4DtIDm",
    "outputId": "4e26e76f-9b6d-4884-88ea-1b1a7e7ba4a2"
   },
   "outputs": [],
   "source": [
    "print(wc_values[:10])"
   ]
  },
  {
   "cell_type": "markdown",
   "metadata": {
    "id": "s4qlacSRtIDm"
   },
   "source": [
    "## string to integer mapping"
   ]
  },
  {
   "cell_type": "code",
   "execution_count": null,
   "metadata": {
    "executionInfo": {
     "elapsed": 476,
     "status": "ok",
     "timestamp": 1622268035930,
     "user": {
      "displayName": "이수빈",
      "photoUrl": "",
      "userId": "07916576844189341598"
     },
     "user_tz": -540
    },
    "id": "TJZcrA56tIDn"
   },
   "outputs": [],
   "source": [
    "vocabulary = set()\n",
    "for mof_name in mof_names:\n",
    "    vocabulary.update(mof_name.split(\"+\"))"
   ]
  },
  {
   "cell_type": "code",
   "execution_count": null,
   "metadata": {
    "executionInfo": {
     "elapsed": 303,
     "status": "ok",
     "timestamp": 1622268038270,
     "user": {
      "displayName": "이수빈",
      "photoUrl": "",
      "userId": "07916576844189341598"
     },
     "user_tz": -540
    },
    "id": "VRfegYa3tIDn"
   },
   "outputs": [],
   "source": [
    "word2index = {word: i for i, word in enumerate(vocabulary, start=1)}"
   ]
  },
  {
   "cell_type": "code",
   "execution_count": null,
   "metadata": {
    "colab": {
     "base_uri": "https://localhost:8080/"
    },
    "executionInfo": {
     "elapsed": 13,
     "status": "ok",
     "timestamp": 1622268039263,
     "user": {
      "displayName": "이수빈",
      "photoUrl": "",
      "userId": "07916576844189341598"
     },
     "user_tz": -540
    },
    "id": "5xPWcB8VtIDn",
    "outputId": "cec996fe-bada-485e-9c8c-2a6d4099c77f",
    "scrolled": true
   },
   "outputs": [],
   "source": [
    "print(word2index)"
   ]
  },
  {
   "cell_type": "code",
   "execution_count": null,
   "metadata": {
    "executionInfo": {
     "elapsed": 705,
     "status": "ok",
     "timestamp": 1622268042138,
     "user": {
      "displayName": "이수빈",
      "photoUrl": "",
      "userId": "07916576844189341598"
     },
     "user_tz": -540
    },
    "id": "5g6HlCnPtIDo"
   },
   "outputs": [],
   "source": [
    "x_data = []\n",
    "\n",
    "for mof_name in mof_names:\n",
    "    x = [0] * 7\n",
    "    for i, word in enumerate(mof_name.split(\"+\")):\n",
    "        x[i] = word2index[word]\n",
    "    x_data.append(x)\n",
    "x_data = np.array(x_data)"
   ]
  },
  {
   "cell_type": "code",
   "execution_count": null,
   "metadata": {
    "colab": {
     "base_uri": "https://localhost:8080/"
    },
    "executionInfo": {
     "elapsed": 3,
     "status": "ok",
     "timestamp": 1622268042741,
     "user": {
      "displayName": "이수빈",
      "photoUrl": "",
      "userId": "07916576844189341598"
     },
     "user_tz": -540
    },
    "id": "ajfRQXcWtIDo",
    "outputId": "f0ebe7ab-bedb-468c-a1fb-d0896ed203ab"
   },
   "outputs": [],
   "source": [
    "print(x_data)"
   ]
  },
  {
   "cell_type": "markdown",
   "metadata": {
    "id": "jCWv0cFHtIDp"
   },
   "source": [
    "## Data normalization and reshape"
   ]
  },
  {
   "cell_type": "code",
   "execution_count": null,
   "metadata": {
    "executionInfo": {
     "elapsed": 2,
     "status": "ok",
     "timestamp": 1622268044915,
     "user": {
      "displayName": "이수빈",
      "photoUrl": "",
      "userId": "07916576844189341598"
     },
     "user_tz": -540
    },
    "id": "y-Td6Wl9tIDp"
   },
   "outputs": [],
   "source": [
    "y_data = np.array(wc_values).reshape(-1, 1) / 100.0"
   ]
  },
  {
   "cell_type": "code",
   "execution_count": null,
   "metadata": {
    "colab": {
     "base_uri": "https://localhost:8080/"
    },
    "executionInfo": {
     "elapsed": 2,
     "status": "ok",
     "timestamp": 1622268046370,
     "user": {
      "displayName": "이수빈",
      "photoUrl": "",
      "userId": "07916576844189341598"
     },
     "user_tz": -540
    },
    "id": "IJi1dgDWtIDp",
    "outputId": "9ae7548f-75af-4ac3-c5c5-16a471ffb831"
   },
   "outputs": [],
   "source": [
    "print(y_data)"
   ]
  },
  {
   "cell_type": "code",
   "execution_count": null,
   "metadata": {
    "executionInfo": {
     "elapsed": 296,
     "status": "ok",
     "timestamp": 1622268048478,
     "user": {
      "displayName": "이수빈",
      "photoUrl": "",
      "userId": "07916576844189341598"
     },
     "user_tz": -540
    },
    "id": "VjC4MpNytIDp"
   },
   "outputs": [],
   "source": [
    "x_train = x_data[:55000]\n",
    "y_train = y_data[:55000]\n",
    "\n",
    "x_test = x_data[55000:]\n",
    "y_test = y_data[55000:]"
   ]
  },
  {
   "cell_type": "markdown",
   "metadata": {
    "id": "-dHbwzQftIDq"
   },
   "source": [
    "## Build and train Model"
   ]
  },
  {
   "cell_type": "code",
   "execution_count": null,
   "metadata": {
    "colab": {
     "base_uri": "https://localhost:8080/"
    },
    "executionInfo": {
     "elapsed": 21941,
     "status": "ok",
     "timestamp": 1622268265325,
     "user": {
      "displayName": "이수빈",
      "photoUrl": "",
      "userId": "07916576844189341598"
     },
     "user_tz": -540
    },
    "id": "L01JrdgutIDq",
    "outputId": "5e24716e-f409-47ea-ae14-3178873a260b"
   },
   "outputs": [],
   "source": [
    "import tensorflow.keras as keras\n",
    "model = keras.models.Sequential()\n",
    "model.add(keras.layers.Embedding(input_dim=len(vocabulary)+1, output_dim=16, input_length=7))\n",
    "model.add(keras.layers.Flatten())\n",
    "model.add(keras.layers.Dense(64, activation=\"relu\"))\n",
    "model.add(keras.layers.Dense(32, activation=\"relu\"))\n",
    "model.add(keras.layers.Dense(1))\n",
    "\n",
    "model.compile(optimizer=\"adam\", loss=\"mse\")\n",
    "model.fit(x_train, y_train, batch_size=32, epochs=4)"
   ]
  },
  {
   "cell_type": "code",
   "execution_count": null,
   "metadata": {
    "colab": {
     "base_uri": "https://localhost:8080/",
     "height": 520
    },
    "executionInfo": {
     "elapsed": 16,
     "status": "ok",
     "timestamp": 1622268265327,
     "user": {
      "displayName": "이수빈",
      "photoUrl": "",
      "userId": "07916576844189341598"
     },
     "user_tz": -540
    },
    "id": "ozoLb7X-tIDq",
    "outputId": "6f4ac16b-925c-4723-c9be-7a6aee0408de"
   },
   "outputs": [],
   "source": [
    "y_pred = model(x_test)\n",
    "\n",
    "plt.figure(figsize=(8, 8))\n",
    "plt.scatter(y_pred*100, y_test*100, s=0.5, alpha=0.5, color=\"blue\")\n",
    "plt.plot([0, 200], [0, 200], color=\"black\", ls=\"--\")\n",
    "\n",
    "plt.xlabel(\"Prediction (cc/cc)\", fontsize=30)\n",
    "plt.ylabel(\"Real WC (cc/cc)\", fontsize=30)\n",
    "\n",
    "plt.xlim([0, 200])\n",
    "plt.ylim([0, 200])\n",
    "\n",
    "plt.show()"
   ]
  }
 ],
 "metadata": {
  "colab": {
   "name": "homework4_net.ipynb",
   "provenance": []
  },
  "kernelspec": {
   "display_name": "Python 3 (ipykernel)",
   "language": "python",
   "name": "python3"
  },
  "language_info": {
   "codemirror_mode": {
    "name": "ipython",
    "version": 3
   },
   "file_extension": ".py",
   "mimetype": "text/x-python",
   "name": "python",
   "nbconvert_exporter": "python",
   "pygments_lexer": "ipython3",
   "version": "3.7.13"
  }
 },
 "nbformat": 4,
 "nbformat_minor": 1
}
