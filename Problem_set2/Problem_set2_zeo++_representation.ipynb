{
 "cells": [
  {
   "cell_type": "markdown",
   "metadata": {
    "id": "SKVTM_XutIDh"
   },
   "source": [
    "# WC predict with structure data(Zeo++)"
   ]
  },
  {
   "cell_type": "markdown",
   "metadata": {},
   "source": [
    "## Module Import"
   ]
  },
  {
   "cell_type": "code",
   "execution_count": null,
   "metadata": {
    "executionInfo": {
     "elapsed": 2014,
     "status": "ok",
     "timestamp": 1622267966046,
     "user": {
      "displayName": "이수빈",
      "photoUrl": "",
      "userId": "07916576844189341598"
     },
     "user_tz": -540
    },
    "id": "m_YnzgDvtIDi"
   },
   "outputs": [],
   "source": [
    "import os\n",
    "os.environ[\"CUDA_VISIBLE_DEVICES\"] =\"0\"\n",
    "import random\n",
    "\n",
    "import numpy as np\n",
    "import pandas as pd\n",
    "import matplotlib.pyplot as plt\n",
    "\n",
    "import tensorflow as tf\n",
    "import tensorflow.keras as keras"
   ]
  },
  {
   "cell_type": "markdown",
   "metadata": {},
   "source": [
    "## Data Load"
   ]
  },
  {
   "cell_type": "code",
   "execution_count": null,
   "metadata": {
    "id": "z2eAyi7atIDr"
   },
   "outputs": [],
   "source": [
    "data = pd.read_csv(\"zeo_gcmc.csv\", index_col = \"structure\")\n",
    "data = data.sample(frac=1, random_state=43)\n",
    "data"
   ]
  },
  {
   "cell_type": "markdown",
   "metadata": {},
   "source": [
    "## Filling in missing data"
   ]
  },
  {
   "cell_type": "code",
   "execution_count": null,
   "metadata": {},
   "outputs": [],
   "source": [
    "data.loc[['acs+N422+E45', 'bnn+N242+E19', 'hms+N495+N133+E16+E187', 'msw+N144+E38', 'pcu+N283+E27'], :]"
   ]
  },
  {
   "cell_type": "code",
   "execution_count": null,
   "metadata": {},
   "outputs": [],
   "source": [
    "data.loc['acs+N422+E45']['Density', 'AV_Volume_fraction', 'AV_cm^3/g', 'Di', 'Df', 'Dif'] = [0.649936, 0.45384, 0.698284, 12.37427, 10.62515, 12.34505]\n",
    "data.loc['bnn+N242+E19']['Density', 'AV_Volume_fraction', 'AV_cm^3/g', 'Di', 'Df', 'Dif'] = [0.694804, 0.41954, 0.603825, 12.09847, 9.95645, 12.09793]\n",
    "data.loc['hms+N495+N133+E16+E187']['Density', 'AV_Volume_fraction', 'AV_cm^3/g', 'Di', 'Df', 'Dif'] = [0.507084, 0.52928, 1.04377, 12.066059, 10.14879, 12.36303]\n",
    "data.loc['msw+N144+E38']['Density', 'AV_Volume_fraction', 'AV_cm^3/g', 'Di', 'Df', 'Dif'] = [0.788979, 0.40974, 0.519330, 8.97779, 7.51442, 8.97779]\n",
    "data.loc['pcu+N283+E27']['Density', 'AV_Volume_fraction', 'AV_cm^3/g', 'Di', 'Df', 'Dif'] = [1.00712, 0.22842, 0.226804, 6.78506, 4.90377, 6.76609]"
   ]
  },
  {
   "cell_type": "code",
   "execution_count": null,
   "metadata": {},
   "outputs": [],
   "source": [
    "data.loc[['acs+N422+E45', 'bnn+N242+E19', 'hms+N495+N133+E16+E187', 'msw+N144+E38', 'pcu+N283+E27'], :]"
   ]
  },
  {
   "cell_type": "code",
   "execution_count": null,
   "metadata": {},
   "outputs": [],
   "source": [
    "data.loc['acs+N422+E45']['gcmc_result'] = 188.6036337274-26.9378540502\n",
    "data.loc['bnn+N242+E19']['gcmc_result'] = 200.0324719640-35.1899809715\n",
    "data.loc[['acs+N422+E45', 'bnn+N242+E19', 'hms+N495+N133+E16+E187', 'msw+N144+E38', 'pcu+N283+E27'], :]"
   ]
  },
  {
   "cell_type": "markdown",
   "metadata": {},
   "source": [
    "## Data split and normalize"
   ]
  },
  {
   "cell_type": "code",
   "execution_count": null,
   "metadata": {},
   "outputs": [],
   "source": [
    "Y = data[\"gcmc_result\"]\n",
    "X = data.drop([\"gcmc_result\"], axis=1)\n",
    "\n",
    "from sklearn import preprocessing\n",
    "\n",
    "min_max_scaler_for_X = preprocessing.MinMaxScaler()\n",
    "x_scaled = min_max_scaler_for_X.fit_transform(X.values)\n",
    "\n",
    "min_max_scaler_for_Y = preprocessing.MinMaxScaler()\n",
    "y_scaled = min_max_scaler_for_Y.fit_transform(Y.values.reshape(-1,1))"
   ]
  },
  {
   "cell_type": "code",
   "execution_count": null,
   "metadata": {},
   "outputs": [],
   "source": [
    "X_train_scaled = x_scaled[:50000]\n",
    "y_train_scaled = y_scaled[:50000]\n",
    "X_test_scaled = x_scaled[50000:]\n",
    "y_test_scaled = y_scaled[50000:]\n",
    "\n",
    "print(X_train_scaled.shape, y_train_scaled.shape)\n",
    "print(X_test_scaled.shape, y_test_scaled.shape)"
   ]
  },
  {
   "cell_type": "markdown",
   "metadata": {},
   "source": [
    "## Build and train Model"
   ]
  },
  {
   "cell_type": "code",
   "execution_count": null,
   "metadata": {},
   "outputs": [],
   "source": [
    "import tensorflow.keras as keras\n",
    "\n",
    "model = keras.models.Sequential()\n",
    "model.add(keras.layers.Dense(1000, activation=\"relu\", input_shape=[19]))\n",
    "model.add(keras.layers.Dense(256, activation=\"relu\"))\n",
    "model.add(keras.layers.Dense(1))\n",
    "\n",
    "opt = keras.optimizers.Adam(lr=0.0001)\n",
    "model.compile(loss=\"mse\", optimizer=opt)\n",
    "model.fit(X_train_scaled, y_train_scaled, batch_size=32, epochs=4)\n"
   ]
  },
  {
   "cell_type": "code",
   "execution_count": null,
   "metadata": {},
   "outputs": [],
   "source": [
    "y_pred_scaled = model(X_test_scaled).numpy()\n",
    "y_pred = min_max_scaler_for_Y.inverse_transform(y_pred_scaled)\n",
    "y_test = min_max_scaler_for_Y.inverse_transform(y_test_scaled)"
   ]
  },
  {
   "cell_type": "code",
   "execution_count": null,
   "metadata": {},
   "outputs": [],
   "source": [
    "plt.figure(figsize=(8, 8))\n",
    "plt.scatter(y_pred, y_test, s=0.5, alpha=0.5, color=\"blue\")\n",
    "plt.plot([0, 250], [0, 250], color=\"black\", ls=\"--\")\n",
    "\n",
    "plt.xlabel(\"Prediction WC (cc/cc)\", fontsize=30)\n",
    "plt.ylabel(\"Real WC (cc/cc)\", fontsize=30)\n",
    "\n",
    "plt.xlim([0, 200])\n",
    "plt.ylim([0, 200])\n",
    "\n",
    "plt.show()"
   ]
  },
  {
   "cell_type": "code",
   "execution_count": null,
   "metadata": {},
   "outputs": [],
   "source": []
  }
 ],
 "metadata": {
  "colab": {
   "name": "homework4_net.ipynb",
   "provenance": []
  },
  "kernelspec": {
   "display_name": "Python 3 (ipykernel)",
   "language": "python",
   "name": "python3"
  },
  "language_info": {
   "codemirror_mode": {
    "name": "ipython",
    "version": 3
   },
   "file_extension": ".py",
   "mimetype": "text/x-python",
   "name": "python",
   "nbconvert_exporter": "python",
   "pygments_lexer": "ipython3",
   "version": "3.7.13"
  }
 },
 "nbformat": 4,
 "nbformat_minor": 1
}
